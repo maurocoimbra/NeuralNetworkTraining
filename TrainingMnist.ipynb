{
 "cells": [
  {
   "cell_type": "markdown",
   "id": "4ffda87d",
   "metadata": {},
   "source": [
    "# 1. Imports"
   ]
  },
  {
   "cell_type": "code",
   "execution_count": 35,
   "id": "e5afe966",
   "metadata": {},
   "outputs": [],
   "source": [
    "import tensorflow as tf\n",
    "import numpy as np\n",
    "from matplotlib import pyplot as plt\n",
    "\n",
    "import random"
   ]
  },
  {
   "cell_type": "markdown",
   "id": "1b8e0638",
   "metadata": {},
   "source": [
    "# 2. Loading Dataset"
   ]
  },
  {
   "cell_type": "code",
   "execution_count": 89,
   "id": "3109f87b",
   "metadata": {
    "scrolled": true
   },
   "outputs": [],
   "source": [
    "mnist = tf.keras.datasets.mnist\n",
    "\n",
    "(x_train, y_train), (x_test, y_test) = mnist.load_data()\n",
    "\n",
    "x_train = tf.keras.utils.normalize(x_train, axis=1)\n",
    "x_test = tf.keras.utils.normalize(x_test, axis=1)"
   ]
  },
  {
   "cell_type": "code",
   "execution_count": 91,
   "id": "ef0c6200",
   "metadata": {
    "scrolled": false
   },
   "outputs": [
    {
     "data": {
      "image/png": "[encoded data removed]",
      "text/plain": [
       "<Figure size 432x288 with 1 Axes>"
      ]
     },
     "metadata": {
      "needs_background": "light"
     },
     "output_type": "display_data"
    }
   ],
   "source": [
    "plt.imshow(x_train[10], cmap='binary')\n",
    "plt.show()"
   ]
  },
  {
   "cell_type": "code",
   "execution_count": 92,
   "id": "4b5d37d1",
   "metadata": {},
   "outputs": [
    {
     "data": {
      "text/plain": [
       "(28, 28)"
      ]
     },
     "execution_count": 92,
     "metadata": {},
     "output_type": "execute_result"
    }
   ],
   "source": [
    "x_train[0].shape"
   ]
  },
  {
   "cell_type": "markdown",
   "id": "4b308eaa",
   "metadata": {},
   "source": [
    "# 3. Model"
   ]
  },
  {
   "cell_type": "markdown",
   "id": "2cf513f2",
   "metadata": {},
   "source": [
    "### 3.1 Building"
   ]
  },
  {
   "cell_type": "code",
   "execution_count": 93,
   "id": "5b70d6dc",
   "metadata": {},
   "outputs": [],
   "source": [
    "from tensorflow.keras.models import Sequential\n",
    "from tensorflow.keras.layers import Conv2D, Dense, Flatten, Dropout"
   ]
  },
  {
   "cell_type": "code",
   "execution_count": 94,
   "id": "6636fa79",
   "metadata": {
    "scrolled": true
   },
   "outputs": [],
   "source": [
    "model = Sequential()\n",
    "\n",
    "model.add(Flatten())\n",
    "model.add(Dense(128, activation='relu'))\n",
    "model.add(Dense(128, activation='relu'))\n",
    "model.add(Dense(10, activation='softmax'))\n",
    "\n",
    "model.compile('Adam', loss='sparse_categorical_crossentropy', metrics=['accuracy'])"
   ]
  },
  {
   "cell_type": "markdown",
   "id": "3ec993bf",
   "metadata": {},
   "source": [
    "### 3.2 Training"
   ]
  },
  {
   "cell_type": "code",
   "execution_count": 96,
   "id": "813035f4",
   "metadata": {
    "scrolled": true
   },
   "outputs": [
    {
     "name": "stdout",
     "output_type": "stream",
     "text": [
      "Epoch 1/3\n",
      "1875/1875 [==============================] - 2s 822us/step - loss: 0.0543 - accuracy: 0.9827\n",
      "Epoch 2/3\n",
      "1875/1875 [==============================] - 2s 823us/step - loss: 0.0389 - accuracy: 0.9875\n",
      "Epoch 3/3\n",
      "1875/1875 [==============================] - 2s 824us/step - loss: 0.0315 - accuracy: 0.9902\n"
     ]
    },
    {
     "data": {
      "text/plain": [
       "<keras.callbacks.History at 0x2031a1c20a0>"
      ]
     },
     "execution_count": 96,
     "metadata": {},
     "output_type": "execute_result"
    }
   ],
   "source": [
    "model.fit(x_train, y_train, epochs=3)"
   ]
  },
  {
   "cell_type": "code",
   "execution_count": 98,
   "id": "af81232e",
   "metadata": {
    "scrolled": false
   },
   "outputs": [
    {
     "name": "stdout",
     "output_type": "stream",
     "text": [
      "313/313 [==============================] - 0s 622us/step - loss: 0.1018 - accuracy: 0.9721\n",
      "0.1017628088593483 0.972100019454956\n"
     ]
    }
   ],
   "source": [
    "val_loss, val_acc = model.evaluate(x_test, y_test)\n",
    "print(val_loss, val_acc)"
   ]
  },
  {
   "cell_type": "markdown",
   "id": "87dcb449",
   "metadata": {},
   "source": [
    "### 3.3 Predictions"
   ]
  },
  {
   "cell_type": "code",
   "execution_count": 99,
   "id": "83be5370",
   "metadata": {
    "scrolled": false
   },
   "outputs": [
    {
     "name": "stdout",
     "output_type": "stream",
     "text": [
      "WARNING:tensorflow:Layers in a Sequential model should only have a single input tensor. Received: inputs=(<tf.Tensor 'IteratorGetNext:0' shape=(None, 28, 28) dtype=float32>,). Consider rewriting this model with the Functional API.\n",
      "313/313 [==============================] - 0s 545us/step\n"
     ]
    }
   ],
   "source": [
    "predictions = model.predict([x_test])"
   ]
  },
  {
   "cell_type": "code",
   "execution_count": 193,
   "id": "3ddc23df",
   "metadata": {
    "scrolled": false
   },
   "outputs": [
    {
     "data": {
      "text/plain": [
       "<function matplotlib.pyplot.show(close=None, block=None)>"
      ]
     },
     "execution_count": 193,
     "metadata": {},
     "output_type": "execute_result"
    },
    {
     "data": {
      "image/png": "[encoded data removed]",
      "text/plain": [
       "<Figure size 432x288 with 1 Axes>"
      ]
     },
     "metadata": {
      "needs_background": "light"
     },
     "output_type": "display_data"
    }
   ],
   "source": [
    "i = random.randint(0, 10001)\n",
    "\n",
    "title = f'Predicted: {str(np.argmax(predictions[i]))}' + f' - Correct: {str(y_test[i])}'\n",
    "\n",
    "plt.imshow(x_test[i], cmap='binary')\n",
    "plt.title(title)\n",
    "plt.show"
   ]
  },
  {
   "cell_type": "markdown",
   "id": "ac8d3626",
   "metadata": {},
   "source": [
    "# 4. Model2"
   ]
  },
  {
   "cell_type": "markdown",
   "id": "3ca4f5cb",
   "metadata": {},
   "source": [
    "### 4.1 Building"
   ]
  },
  {
   "cell_type": "code",
   "execution_count": 101,
   "id": "71d16ffc",
   "metadata": {},
   "outputs": [
    {
     "data": {
      "text/plain": [
       "(60000, 28, 28, 1)"
      ]
     },
     "execution_count": 101,
     "metadata": {},
     "output_type": "execute_result"
    }
   ],
   "source": [
    "x_train2 = np.expand_dims(x_train, axis=-1)\n",
    "x_train2.shape"
   ]
  },
  {
   "cell_type": "code",
   "execution_count": 197,
   "id": "c8933bf3",
   "metadata": {},
   "outputs": [],
   "source": [
    "model2 = Sequential()\n",
    "\n",
    "model2.add(Conv2D(7, (3,3), activation='relu', input_shape=(28, 28, 1)))\n",
    "model2.add(Conv2D(7, (3,3), activation='relu'))\n",
    "model2.add(Flatten())\n",
    "model2.add(Dense(128, activation='relu'))\n",
    "model2.add(Dense(128, activation='relu'))\n",
    "model2.add(Dropout(0.5))\n",
    "model2.add(Dense(10, activation='softmax'))\n",
    "\n",
    "model2.compile('Adam', loss='sparse_categorical_crossentropy', metrics=['accuracy'])"
   ]
  },
  {
   "cell_type": "markdown",
   "id": "d362941a",
   "metadata": {},
   "source": [
    "### 4.2 Training"
   ]
  },
  {
   "cell_type": "code",
   "execution_count": 198,
   "id": "522aab21",
   "metadata": {
    "scrolled": false
   },
   "outputs": [
    {
     "name": "stdout",
     "output_type": "stream",
     "text": [
      "Epoch 1/3\n",
      "1875/1875 [==============================] - 11s 6ms/step - loss: 0.2539 - accuracy: 0.9248\n",
      "Epoch 2/3\n",
      "1875/1875 [==============================] - 11s 6ms/step - loss: 0.0853 - accuracy: 0.9755\n",
      "Epoch 3/3\n",
      "1875/1875 [==============================] - 11s 6ms/step - loss: 0.0556 - accuracy: 0.9832\n"
     ]
    },
    {
     "data": {
      "text/plain": [
       "<keras.callbacks.History at 0x20349ca8550>"
      ]
     },
     "execution_count": 198,
     "metadata": {},
     "output_type": "execute_result"
    }
   ],
   "source": [
    "model2.fit(x_train2, y_train, epochs=3)"
   ]
  },
  {
   "cell_type": "code",
   "execution_count": 199,
   "id": "30ef00f8",
   "metadata": {
    "scrolled": false
   },
   "outputs": [
    {
     "name": "stdout",
     "output_type": "stream",
     "text": [
      "313/313 [==============================] - 1s 2ms/step - loss: 0.0513 - accuracy: 0.9833\n",
      "0.05127204582095146 0.983299970626831\n"
     ]
    }
   ],
   "source": [
    "val_loss, val_acc = model2.evaluate(x_test, y_test)\n",
    "print(val_loss, val_acc)"
   ]
  },
  {
   "cell_type": "markdown",
   "id": "9386ca94",
   "metadata": {},
   "source": [
    "### 4.3 Predictions"
   ]
  },
  {
   "cell_type": "code",
   "execution_count": 200,
   "id": "292bd0da",
   "metadata": {
    "scrolled": false
   },
   "outputs": [
    {
     "name": "stdout",
     "output_type": "stream",
     "text": [
      "313/313 [==============================] - 0s 561us/step\n"
     ]
    }
   ],
   "source": [
    "predictions2 = model.predict([x_test])"
   ]
  },
  {
   "cell_type": "code",
   "execution_count": 202,
   "id": "15b01c76",
   "metadata": {},
   "outputs": [
    {
     "data": {
      "text/plain": [
       "<function matplotlib.pyplot.show(close=None, block=None)>"
      ]
     },
     "execution_count": 202,
     "metadata": {},
     "output_type": "execute_result"
    },
    {
     "data": {
      "image/png": "[encoded data removed]",
      "text/plain": [
       "<Figure size 432x288 with 1 Axes>"
      ]
     },
     "metadata": {
      "needs_background": "light"
     },
     "output_type": "display_data"
    }
   ],
   "source": [
    "i = random.randint(0, 10001)\n",
    "\n",
    "title = f'Predicted: {str(np.argmax(predictions2[i]))}' + f' - Correct: {str(y_test[i])}'\n",
    "\n",
    "plt.imshow(x_test[i], cmap='binary')\n",
    "plt.title(title)\n",
    "plt.show"
   ]
  },
  {
   "cell_type": "markdown",
   "id": "19367eab",
   "metadata": {},
   "source": [
    "### 4.4 Wrong Predictions"
   ]
  },
  {
   "cell_type": "code",
   "execution_count": 209,
   "id": "33786be2",
   "metadata": {},
   "outputs": [
    {
     "data": {
      "text/plain": [
       "<function matplotlib.pyplot.show(close=None, block=None)>"
      ]
     },
     "execution_count": 209,
     "metadata": {},
     "output_type": "execute_result"
    },
    {
     "data": {
      "image/png": "[encoded data removed]",
      "text/plain": [
       "<Figure size 432x288 with 1 Axes>"
      ]
     },
     "metadata": {
      "needs_background": "light"
     },
     "output_type": "display_data"
    }
   ],
   "source": [
    "#i = random.randint(0, 10001)\n",
    "wrong = []\n",
    "\n",
    "for i in range(len(predictions2)):\n",
    "    if np.argmax(predictions2[i]) != y_test[i]:\n",
    "        wrong.append(i)\n",
    "        \n",
    "i = wrong[random.randint(0 ,len(wrong))]\n",
    "        \n",
    "title = f'Predicted: {str(np.argmax(predictions2[i]))}' + f' - Correct: {str(y_test[i])}'\n",
    "\n",
    "plt.imshow(x_test[i], cmap='binary')\n",
    "plt.title(title)\n",
    "plt.show"
   ]
  }
 ],
 "metadata": {
  "kernelspec": {
   "display_name": "Python 3 (ipykernel)",
   "language": "python",
   "name": "python3"
  },
  "language_info": {
   "codemirror_mode": {
    "name": "ipython",
    "version": 3
   },
   "file_extension": ".py",
   "mimetype": "text/x-python",
   "name": "python",
   "nbconvert_exporter": "python",
   "pygments_lexer": "ipython3",
   "version": "3.9.12"
  }
 },
 "nbformat": 4,
 "nbformat_minor": 5
}
